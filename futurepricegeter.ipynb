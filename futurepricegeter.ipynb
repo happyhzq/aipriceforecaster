{
 "cells": [
  {
   "cell_type": "code",
   "execution_count": 6,
   "id": "7575daf2-7f31-40bf-8dce-845e3721e394",
   "metadata": {},
   "outputs": [
    {
     "name": "stdout",
     "output_type": "stream",
     "text": [
      "                 datetime    open    high     low   close  volume     hold  \\\n",
      "0     2025-08-21 21:13:00  3119.0  3119.0  3117.0  3117.0    2348  1458332   \n",
      "1     2025-08-21 21:14:00  3117.0  3120.0  3117.0  3119.0    3253  1458811   \n",
      "2     2025-08-21 21:15:00  3119.0  3120.0  3118.0  3118.0    1624  1458942   \n",
      "3     2025-08-21 21:16:00  3118.0  3120.0  3118.0  3120.0    2961  1460084   \n",
      "4     2025-08-21 21:17:00  3120.0  3121.0  3115.0  3116.0    5168  1460183   \n",
      "...                   ...     ...     ...     ...     ...     ...      ...   \n",
      "1018  2025-08-26 14:56:00  3116.0  3117.0  3115.0  3116.0    2745  1312053   \n",
      "1019  2025-08-26 14:57:00  3116.0  3117.0  3115.0  3115.0    3392  1311271   \n",
      "1020  2025-08-26 14:58:00  3116.0  3116.0  3114.0  3115.0    2641  1311453   \n",
      "1021  2025-08-26 14:59:00  3114.0  3115.0  3113.0  3114.0    1251  1309986   \n",
      "1022  2025-08-26 15:00:00  3113.0  3113.0  3113.0  3113.0       0  1308206   \n",
      "\n",
      "     ticker  \n",
      "0       RB0  \n",
      "1       RB0  \n",
      "2       RB0  \n",
      "3       RB0  \n",
      "4       RB0  \n",
      "...     ...  \n",
      "1018    RB0  \n",
      "1019    RB0  \n",
      "1020    RB0  \n",
      "1021    RB0  \n",
      "1022    RB0  \n",
      "\n",
      "[1023 rows x 8 columns]\n"
     ]
    }
   ],
   "source": [
    "import akshare as ak\n",
    "\n",
    "file_path = \"/Users/LG/Library/Mobile Documents/com~apple~CloudDocs/Work/Investment/Future/chinafuturetickerdata/\"\n",
    "\n",
    "ticker = \"RB0\"\n",
    "\n",
    "period = \"1\"\n",
    "\n",
    "futures_zh_minute_sina_df = ak.futures_zh_minute_sina(symbol=ticker, period=period)\n",
    "futures_zh_\n",
    "futures_zh_minute_sina_df['ticker'] = 'RB0'\n",
    "\n",
    "futures_zh_minute_sina_df.to_csv(file_path+ticker+\".csv\")\n",
    "print(futures_zh_minute_sina_df)"
   ]
  }
 ],
 "metadata": {
  "kernelspec": {
   "display_name": "Python 3.9",
   "language": "python",
   "name": "rqalpha"
  },
  "language_info": {
   "codemirror_mode": {
    "name": "ipython",
    "version": 3
   },
   "file_extension": ".py",
   "mimetype": "text/x-python",
   "name": "python",
   "nbconvert_exporter": "python",
   "pygments_lexer": "ipython3",
   "version": "3.9.18"
  }
 },
 "nbformat": 4,
 "nbformat_minor": 5
}
